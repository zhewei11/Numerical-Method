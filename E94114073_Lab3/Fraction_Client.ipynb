{
 "cells": [
  {
   "cell_type": "code",
   "execution_count": 1,
   "id": "44a9fed0",
   "metadata": {
    "ExecuteTime": {
     "end_time": "2024-03-12T08:37:07.567174Z",
     "start_time": "2024-03-12T08:37:07.542234Z"
    }
   },
   "outputs": [],
   "source": [
    "from fraction import Fraction"
   ]
  },
  {
   "cell_type": "code",
   "execution_count": 2,
   "id": "eec957fa",
   "metadata": {
    "ExecuteTime": {
     "end_time": "2024-03-12T08:37:07.582656Z",
     "start_time": "2024-03-12T08:37:07.569165Z"
    }
   },
   "outputs": [
    {
     "name": "stdout",
     "output_type": "stream",
     "text": [
      "7/6\n",
      "False\n"
     ]
    }
   ],
   "source": [
    "x = Fraction(1,2)\n",
    "y = Fraction(2,3)\n",
    "print(x+y)\n",
    "print(x == y)\n"
   ]
  },
  {
   "cell_type": "code",
   "execution_count": 3,
   "id": "81d090f8",
   "metadata": {
    "ExecuteTime": {
     "end_time": "2024-03-12T08:37:07.597615Z",
     "start_time": "2024-03-12T08:37:07.584651Z"
    }
   },
   "outputs": [
    {
     "name": "stdout",
     "output_type": "stream",
     "text": [
      "True\n"
     ]
    }
   ],
   "source": [
    "print(x != y)"
   ]
  },
  {
   "cell_type": "code",
   "execution_count": 4,
   "id": "6b23bf53",
   "metadata": {
    "ExecuteTime": {
     "end_time": "2024-03-12T08:37:07.612579Z",
     "start_time": "2024-03-12T08:37:07.598612Z"
    }
   },
   "outputs": [
    {
     "name": "stdout",
     "output_type": "stream",
     "text": [
      "-1/6\n"
     ]
    }
   ],
   "source": [
    "print(x-y)"
   ]
  },
  {
   "cell_type": "code",
   "execution_count": 5,
   "id": "44180cba",
   "metadata": {
    "ExecuteTime": {
     "end_time": "2024-03-12T08:37:07.628536Z",
     "start_time": "2024-03-12T08:37:07.614570Z"
    }
   },
   "outputs": [
    {
     "name": "stdout",
     "output_type": "stream",
     "text": [
      "1/3\n"
     ]
    }
   ],
   "source": [
    "print(x*y)"
   ]
  },
  {
   "cell_type": "code",
   "execution_count": 6,
   "id": "073ef33f",
   "metadata": {
    "ExecuteTime": {
     "end_time": "2024-03-12T08:37:07.643493Z",
     "start_time": "2024-03-12T08:37:07.629531Z"
    }
   },
   "outputs": [
    {
     "name": "stdout",
     "output_type": "stream",
     "text": [
      "3/4\n"
     ]
    }
   ],
   "source": [
    "print(x/y)"
   ]
  },
  {
   "cell_type": "code",
   "execution_count": 7,
   "id": "ce9fb14a",
   "metadata": {
    "ExecuteTime": {
     "end_time": "2024-03-12T08:37:07.658455Z",
     "start_time": "2024-03-12T08:37:07.644490Z"
    }
   },
   "outputs": [
    {
     "data": {
      "text/plain": [
       "Numerator:4\n",
       "Denominator:6"
      ]
     },
     "execution_count": 7,
     "metadata": {},
     "output_type": "execute_result"
    }
   ],
   "source": [
    "Fraction(4,6)"
   ]
  },
  {
   "cell_type": "code",
   "execution_count": 8,
   "id": "d183e347",
   "metadata": {
    "ExecuteTime": {
     "end_time": "2024-03-12T08:37:07.673921Z",
     "start_time": "2024-03-12T08:37:07.659453Z"
    }
   },
   "outputs": [
    {
     "name": "stdout",
     "output_type": "stream",
     "text": [
      "2/3\n"
     ]
    }
   ],
   "source": [
    "print(Fraction(2,3))"
   ]
  },
  {
   "cell_type": "code",
   "execution_count": null,
   "id": "b815d77b422bd96d",
   "metadata": {
    "ExecuteTime": {
     "end_time": "2024-03-12T08:37:07.688880Z",
     "start_time": "2024-03-12T08:37:07.674919Z"
    },
    "collapsed": false
   },
   "outputs": [],
   "source": []
  }
 ],
 "metadata": {
  "kernelspec": {
   "display_name": "Python 3 (ipykernel)",
   "language": "python",
   "name": "python3"
  },
  "language_info": {
   "codemirror_mode": {
    "name": "ipython",
    "version": 3
   },
   "file_extension": ".py",
   "mimetype": "text/x-python",
   "name": "python",
   "nbconvert_exporter": "python",
   "pygments_lexer": "ipython3",
   "version": "3.10.11"
  }
 },
 "nbformat": 4,
 "nbformat_minor": 5
}
