{
 "cells": [
  {
   "cell_type": "markdown",
   "id": "afefa405-5d9c-4211-ba4c-6c1a9f605f6d",
   "metadata": {},
   "source": [
    "__Problem__ 4.1\n",
    "Use the left and right Riemann integral as well as the mid-point rule to compute $$\\int sin(x)dx$$ from 0 to $$\\pi$$.  "
   ]
  },
  {
   "cell_type": "code",
   "execution_count": 7,
   "id": "ce459e11-1cd7-4814-b1bf-cdac61baca47",
   "metadata": {
    "tags": []
   },
   "outputs": [],
   "source": [
    "# import modules \n",
    "import numpy as np\n",
    "# defint the buoudary\n",
    "a = 0\n",
    "b = np.pi\n",
    "# equally spacing 11 grids\n",
    "n = 11\n",
    "# determien the foward steps\n",
    "h = (b-a)/(n-1)\n",
    "#using line space\n",
    "x = np.linspace(a,b,n)\n",
    "f = np.sin(x)"
   ]
  },
  {
   "cell_type": "code",
   "execution_count": 8,
   "id": "60632af2-2edb-4d17-9cae-fec0546d7af0",
   "metadata": {
    "tags": []
   },
   "outputs": [],
   "source": [
    "I_riemann_L = h*sum(f[:n-1])\n",
    "I_riemann_R = h*sum(f[1::])\n",
    "I_mid = h*sum(np.sin((x[:n-1]+x[1:])/2))"
   ]
  },
  {
   "cell_type": "code",
   "execution_count": 10,
   "id": "6123c025-aef3-461b-9384-58e6e9af6689",
   "metadata": {
    "tags": []
   },
   "outputs": [
    {
     "name": "stdout",
     "output_type": "stream",
     "text": [
      "The integral from left Riemann: 1.98 with error :1.65%\n",
      "The integral from right Riemann: 1.98 with error :1.65%\n",
      "The integral from mid points: 2.01 with error :0.82%\n"
     ]
    }
   ],
   "source": [
    "err_I_riemann_L = abs(2-I_riemann_L)\n",
    "err_I_riemann_R = abs(2-I_riemann_R)\n",
    "err_mid = abs(2-I_mid)\n",
    "\n",
    "print(f\"The integral from left Riemann: {I_riemann_L:.2f} with error :{err_I_riemann_L*100:.2f}%\")\n",
    "print(f\"The integral from right Riemann: {I_riemann_R:.2f} with error :{err_I_riemann_R*100:.2f}%\")\n",
    "print(f\"The integral from mid points: {I_mid:.2f} with error :{err_mid*100:.2f}%\")"
   ]
  },
  {
   "cell_type": "markdown",
   "id": "0a1ec196-3b93-490f-b561-8d32069ca109",
   "metadata": {},
   "source": [
    "Use the trapz function to comupte $$\\int sin(x) dx$$"
   ]
  },
  {
   "cell_type": "code",
   "execution_count": 11,
   "id": "92207204-c180-4406-94de-6d1043ecf46b",
   "metadata": {
    "tags": []
   },
   "outputs": [],
   "source": [
    "import numpy as np\n",
    "from scipy.integrate import trapz"
   ]
  },
  {
   "cell_type": "code",
   "execution_count": 12,
   "id": "5b4d5740-aec6-4838-a001-e25cca6a71b0",
   "metadata": {
    "tags": []
   },
   "outputs": [],
   "source": [
    "# defint the buoudary\n",
    "a = 0\n",
    "b = np.pi\n",
    "# equally spacing 11 grids\n",
    "n = 11\n",
    "# determien the foward steps\n",
    "h = (b-a)/(n-1)\n",
    "#using line space\n",
    "x = np.linspace(a,b,n)\n",
    "f = np.sin(x)"
   ]
  },
  {
   "cell_type": "code",
   "execution_count": 13,
   "id": "039de9de-c4c5-442b-a867-6a3293efd8ca",
   "metadata": {
    "tags": []
   },
   "outputs": [
    {
     "name": "stdout",
     "output_type": "stream",
     "text": [
      "The integral from trapz functuon: 1.98 with error :1.65%\n"
     ]
    }
   ],
   "source": [
    "I_trapz = trapz(f,x)\n",
    "err_trapz = abs(2-I_trapz)\n",
    "print(f\"The integral from trapz functuon: {I_trapz:.2f} with error :{err_trapz*100:.2f}%\")"
   ]
  },
  {
   "cell_type": "markdown",
   "id": "37e47249-c1d8-4c9b-a7bd-e8dfb5f692b8",
   "metadata": {},
   "source": [
    "__problem__ 4.7\n",
    "Use the integrate.quad to compute $$\\int sin(x)dx$$"
   ]
  },
  {
   "cell_type": "code",
   "execution_count": 14,
   "id": "b32374cb-2815-4dff-b8d8-f18195ddc00e",
   "metadata": {
    "tags": []
   },
   "outputs": [],
   "source": [
    "from scipy.integrate import quad"
   ]
  },
  {
   "cell_type": "code",
   "execution_count": 15,
   "id": "0309a337-b625-4879-9910-28baa8bb6229",
   "metadata": {
    "tags": []
   },
   "outputs": [
    {
     "name": "stdout",
     "output_type": "stream",
     "text": [
      "The integral from quad functuon: 2.00 with error :0.00%\n"
     ]
    }
   ],
   "source": [
    "I_quad, err_quad = quad(np.sin, 0, np.pi)\n",
    "print(f\"The integral from quad functuon: {I_quad:.2f} with error :{err_quad*100:.2f}%\")"
   ]
  },
  {
   "cell_type": "code",
   "execution_count": null,
   "id": "b847cd5e-9c1f-4fae-bbe5-eaa452f55579",
   "metadata": {},
   "outputs": [],
   "source": []
  }
 ],
 "metadata": {
  "kernelspec": {
   "display_name": "Python 3 (ipykernel)",
   "language": "python",
   "name": "python3"
  },
  "language_info": {
   "codemirror_mode": {
    "name": "ipython",
    "version": 3
   },
   "file_extension": ".py",
   "mimetype": "text/x-python",
   "name": "python",
   "nbconvert_exporter": "python",
   "pygments_lexer": "ipython3",
   "version": "3.11.5"
  }
 },
 "nbformat": 4,
 "nbformat_minor": 5
}
