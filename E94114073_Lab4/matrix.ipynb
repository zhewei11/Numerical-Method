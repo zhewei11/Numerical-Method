{
 "cells": [
  {
   "cell_type": "code",
   "execution_count": null,
   "id": "76c4170b",
   "metadata": {
    "ExecuteTime": {
     "end_time": "2024-03-19T08:25:32.878582Z",
     "start_time": "2024-03-19T08:25:32.841551Z"
    }
   },
   "outputs": [],
   "source": [
    "import random\n",
    "\"from copy import deepcopy\"\n",
    "\n",
    "class Matrix:\n",
    "\n",
    "    def __init__(self, nrows, ncols):\n",
    "        \"\"\"Construct a (nrows X ncols) matrix\"\"\"\n",
    "        self.nrows = nrows\n",
    "        self.ncols = ncols\n",
    "        self.matrix = [[random.randint(0, 10) for _ in range(ncols)] for _ in range(nrows)] \n",
    "    \n",
    "    def add(self, m):\n",
    "        \"\"\"return a new Matrix object after summation\"\"\"\n",
    "        if self.nrows != m.nrows or self.ncols != m.ncols:\n",
    "            print(\"Matrixs' size should be in the same size\")\n",
    "        else:\n",
    "            result = Matrix(self.nrows, self.ncols)\n",
    "\n",
    "            for i in range(self.nrows):\n",
    "                for j in range(self.ncols):\n",
    "                    result.matrix[i][j] = self.matrix[i][j] + m.matrix[i][j]\n",
    "\n",
    "            return result\n",
    "\n",
    "    def sub(self, m):\n",
    "        \"\"\"return a new Matrix object after subtraction\"\"\"\n",
    "        if self.nrows != m.nrows or self.ncols != m.ncols:\n",
    "            print(\"Matrixs' size should be in the same size!\")\n",
    "        else:\n",
    "            result = Matrix(self.nrows, self.ncols)\n",
    "\n",
    "            for i in range(self.nrows):\n",
    "                for j in range(self.ncols):\n",
    "                    result.matrix[i][j] = self.matrix[i][j] - m.matrix[i][j]\n",
    "\n",
    "            return result\n",
    "\n",
    "    def mul(self, m):\n",
    "        \"\"\"return a new Matrix object after multiplication\"\"\"\n",
    "        if self.ncols != m.nrows:\n",
    "            print(f'Cannot multiply two matrixs with size ({self.nrows}, {self.ncols}) and ({m.nrows}, {m.ncols})')\n",
    "        else:\n",
    "            result = Matrix(self.nrows, m.ncols)\n",
    "\n",
    "            for i in range(self.nrows):\n",
    "                for j in range(m.ncols):\n",
    "                    result.matrix[i][j] = sum(self.matrix[i][k] * m.matrix[k][j] for k in range(self.ncols))\n",
    "\n",
    "            return result\n",
    "\n",
    "    def transpose(self):\n",
    "        \"\"\"return a new Matrix object after transpose\"\"\"\n",
    "        result = Matrix(self.ncols, self.nrows)\n",
    "\n",
    "        for i in range(self.ncols):\n",
    "            for j in range(self.nrows):\n",
    "                result.matrix[i][j] = self.matrix[j][i]\n",
    "\n",
    "        return result\n",
    "    \n",
    "    def display(self):\n",
    "        \"\"\"Display the content in the matrix\"\"\"\n",
    "        for i in range(self.nrows):\n",
    "            for j in range(self.ncols):\n",
    "                print(f'{self.matrix[i][j]:3d}' ,end=' ')\n",
    "            print()\n"
   ]
  },
  {
   "cell_type": "code",
   "execution_count": 38,
   "id": "97dc8a42",
   "metadata": {
    "ExecuteTime": {
     "end_time": "2024-03-19T08:25:36.081081Z",
     "start_time": "2024-03-19T08:25:32.882826Z"
    }
   },
   "outputs": [
    {
     "name": "stdout",
     "output_type": "stream",
     "text": [
      "Matrix A(3, 3):\n",
      "  2   8   5 \n",
      "  4   9   5 \n",
      "  1   5   1 \n",
      "Matrix B(3, 3):\n",
      "  5   8   0 \n",
      " 10   1   6 \n",
      "  4   4   7 \n",
      "========== A + B ==========\n",
      "  7  16   5 \n",
      " 14  10  11 \n",
      "  5   9   8 \n",
      "========== A - B ==========\n",
      " -3   0   5 \n",
      " -6   8  -1 \n",
      " -3   1  -6 \n",
      "========== A * B ==========\n",
      "110  44  83 \n",
      "130  61  89 \n",
      " 59  17  37 \n",
      "===== the transpose of A*B =====\n",
      "110 130  59 \n",
      " 44  61  17 \n",
      " 83  89  37 \n"
     ]
    }
   ],
   "source": [
    "a_rows = int(input(\"Enter A matrix's rows:\"))\n",
    "a_cols = int(input(\"Enter A matrix's cols:\"))\n",
    "print(\"Matrix A({}, {}):\".format(a_rows, a_cols))\n",
    "A = Matrix(a_rows, a_cols)\n",
    "A.display()\n",
    "    \n",
    "b_rows = int(input(\"Enter B matrix's rows:\"))\n",
    "b_cols = int(input(\"Enter B matrix's cols:\"))\n",
    "print(\"Matrix B({}, {}):\".format(b_rows, b_cols))\n",
    "B = Matrix(b_rows, b_cols)\n",
    "B.display()\n",
    "    \n",
    "print(\"=\"*10, 'A + B', \"=\"*10)\n",
    "result = A.add(B)\n",
    "if result is not None:\n",
    "    result.display()\n",
    "    \n",
    "print(\"=\"*10, 'A - B', \"=\"*10)\n",
    "result = A.sub(B)\n",
    "if result is not None:\n",
    "    result.display()\n",
    "\n",
    "print(\"=\"*10, 'A * B', \"=\"*10)\n",
    "result = A.mul(B)\n",
    "if result is not None:\n",
    "    result.display()\n",
    "\n",
    "print(\"=\"*5, \"the transpose of A*B\", \"=\"*5)\n",
    "result = result.transpose()\n",
    "if result is not None:\n",
    "    result.display()"
   ]
  },
  {
   "cell_type": "code",
   "execution_count": 38,
   "id": "fd4f2ff0",
   "metadata": {
    "ExecuteTime": {
     "end_time": "2024-03-19T08:25:36.096043Z",
     "start_time": "2024-03-19T08:25:36.084072Z"
    }
   },
   "outputs": [],
   "source": []
  }
 ],
 "metadata": {
  "kernelspec": {
   "display_name": "Python 3 (ipykernel)",
   "language": "python",
   "name": "python3"
  },
  "language_info": {
   "codemirror_mode": {
    "name": "ipython",
    "version": 3
   },
   "file_extension": ".py",
   "mimetype": "text/x-python",
   "name": "python",
   "nbconvert_exporter": "python",
   "pygments_lexer": "ipython3",
   "version": "3.7.15"
  }
 },
 "nbformat": 4,
 "nbformat_minor": 5
}
