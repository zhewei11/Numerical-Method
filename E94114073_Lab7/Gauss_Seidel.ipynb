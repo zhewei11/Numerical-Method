{
 "cells": [
  {
   "cell_type": "code",
   "execution_count": 10,
   "metadata": {},
   "outputs": [],
   "source": [
    "import numpy as np\n",
    "from copy import deepcopy"
   ]
  },
  {
   "attachments": {},
   "cell_type": "markdown",
   "metadata": {},
   "source": [
    "##### Write the function for check the matrix is diagonally dominant"
   ]
  },
  {
   "cell_type": "code",
   "execution_count": 11,
   "metadata": {},
   "outputs": [],
   "source": [
    "def check_diagonally(a):\n",
    "    # Find diagonal coefficients\n",
    "    diag = np.abs(a.diagonal())\n",
    "    \n",
    "    # Find row sum without diagonal coefficients \n",
    "    # axis = 1 --> row \n",
    "    off_diag = np.sum(np.abs(a), axis = 1) - diag\n",
    "    \n",
    "    if np.all(diag > off_diag):\n",
    "\n",
    "        print(\"matrix is diagonally dominant\")\n",
    "    else:\n",
    "        print(\"NOT diagonally dominant\")"
   ]
  },
  {
   "attachments": {},
   "cell_type": "markdown",
   "metadata": {},
   "source": [
    "##### Wirte the funtion for Gauss-Seidel method"
   ]
  },
  {
   "cell_type": "code",
   "execution_count": 12,
   "metadata": {},
   "outputs": [],
   "source": [
    "import numpy as np\n",
    "from copy import deepcopy\n",
    "\n",
    "def Gauss_Seidel(a, x, y, it, epsilon):\n",
    "    converged = False  \n",
    "    x_old = np.zeros(a.shape[0])  \n",
    "    print(\"Iteration results\") \n",
    "\n",
    "    print(' k,', end='   ')  \n",
    "    for i in range(1, x.shape[0]+1):\n",
    "        print(f\"x{i},\", end=\"      \")\n",
    "    print(\"\")\n",
    "    \n",
    "    # Iterative loop\n",
    "    for k in range(it):\n",
    "        x_old = deepcopy(x)  # Store the current values of x\n",
    "        \n",
    "        # Update each variable using Gauss-Seidel formula\n",
    "        for i in range(a.shape[0]):\n",
    "            #x[i] =  (y[i]- sum of aij * xj) / aii\n",
    "            x[i] = (y[i] - np.dot(a[i, :i], x[:i]) - np.dot(a[i, i+1:], x_old[i+1:])) / a[i, i]\n",
    "\n",
    "        # Check convergence ord = infinite -> maximum of rows\n",
    "        if np.linalg.norm(x - x_old, ord=np.inf) < epsilon:\n",
    "            converged = True\n",
    "            break\n",
    "        \n",
    "        # Print current iteration values\n",
    "        print(f'{k+1}' , end='  ')  \n",
    "        for val in x:\n",
    "            print(f'{val:.4f}', end=', ') \n",
    "        print(\"\")\n",
    "    \n",
    "    # Print convergence status\n",
    "    if converged:\n",
    "        print(\"Converged !\")\n",
    "    else :\n",
    "        print(\"Maximum number of iterations reached\")\n",
    "\n",
    "    return x\n"
   ]
  },
  {
   "attachments": {},
   "cell_type": "markdown",
   "metadata": {},
   "source": [
    "# Sample 1"
   ]
  },
  {
   "cell_type": "code",
   "execution_count": 13,
   "metadata": {},
   "outputs": [
    {
     "name": "stdout",
     "output_type": "stream",
     "text": [
      "matrix is diagonally dominant\n"
     ]
    }
   ],
   "source": [
    "a = np.array([[6, 1, -3], [-7, 12, 4], [-3, -1, 5]])\n",
    "\n",
    "check_diagonally(a)"
   ]
  },
  {
   "cell_type": "code",
   "execution_count": 14,
   "metadata": {},
   "outputs": [
    {
     "name": "stdout",
     "output_type": "stream",
     "text": [
      "Iteration results\n",
      " k,   x1,      x2,      x3,      \n",
      "1  0.8333, 0.8194, 2.8639, \n",
      "2  2.1287, 0.6204, 3.6013, \n",
      "3  2.5306, 0.6091, 3.8402, \n",
      "4  2.6519, 0.6002, 3.9112, \n",
      "5  2.6889, 0.5981, 3.9330, \n",
      "6  2.7001, 0.5974, 3.9396, \n",
      "7  2.7035, 0.5972, 3.9416, \n",
      "8  2.7046, 0.5971, 3.9422, \n",
      "9  2.7049, 0.5971, 3.9424, \n",
      "Converged !\n",
      "\n",
      "Check\n",
      "my solve: [2.70499399 0.59712486 3.94242137]\n",
      "np solve: [2.70503597 0.5971223  3.94244604]\n"
     ]
    }
   ],
   "source": [
    "a = np.array([[6, 1, -3], [-7, 12, 4], [-3, -1, 5]])\n",
    "x = np.zeros(a.shape[0])\n",
    "y = np.array([5, 4, 11])\n",
    "\n",
    "x = Gauss_Seidel(a, x, y, it=50, epsilon=0.0001)\n",
    "print('')\n",
    "print('Check')\n",
    "print('my solve:',x)\n",
    "x = np.linalg.solve(a, y)\n",
    "print('np solve:',x)"
   ]
  },
  {
   "attachments": {},
   "cell_type": "markdown",
   "metadata": {},
   "source": [
    "# Sample 2"
   ]
  },
  {
   "cell_type": "code",
   "execution_count": 15,
   "metadata": {},
   "outputs": [
    {
     "name": "stdout",
     "output_type": "stream",
     "text": [
      "matrix is diagonally dominant\n"
     ]
    }
   ],
   "source": [
    "a = np.array([[56, 11, -24, 5], [11, 23, -3, 1], [2, 3, 12, -4], [-3, 6, 5, 21]])\n",
    "\n",
    "check_diagonally(a)"
   ]
  },
  {
   "cell_type": "code",
   "execution_count": 16,
   "metadata": {},
   "outputs": [
    {
     "name": "stdout",
     "output_type": "stream",
     "text": [
      "Iteration results\n",
      " k,   x1,      x2,      x3,      x4,      \n",
      "1  0.2679, 0.0458, -0.2228, 0.1258, \n",
      "2  0.1522, 0.0666, -0.1667, 0.0900, \n",
      "3  0.1753, 0.0644, -0.1820, 0.0976, \n",
      "4  0.1685, 0.0653, -0.1786, 0.0955, \n",
      "5  0.1700, 0.0652, -0.1794, 0.0960, \n",
      "6  0.1696, 0.0652, -0.1792, 0.0959, \n",
      "7  0.1697, 0.0652, -0.1793, 0.0959, \n",
      "8  0.1696, 0.0652, -0.1793, 0.0959, \n",
      "Converged !\n",
      "\n",
      "Check\n",
      "my solve: [ 0.16964991  0.06522254 -0.17927942  0.09590531]\n",
      "np solve: [ 0.16964882  0.06522267 -0.17927881  0.09590498]\n"
     ]
    }
   ],
   "source": [
    "a = np.array([[56, 11, -24, 5], [11, 23, -3, 1], [2, 3, 12, -4], [-3, 6, 5, 21]])\n",
    "x = np.zeros(a.shape[0])\n",
    "y = np.array([15, 4, -2, 1])\n",
    "\n",
    "x = Gauss_Seidel(a, x, y, it=50, epsilon=0.00001)\n",
    "print('')\n",
    "print('Check')\n",
    "print('my solve:',x)\n",
    "x = np.linalg.solve(a, y)\n",
    "print('np solve:',x)"
   ]
  },
  {
   "cell_type": "code",
   "execution_count": 17,
   "metadata": {},
   "outputs": [
    {
     "name": "stdout",
     "output_type": "stream",
     "text": [
      "matrix is diagonally dominant\n"
     ]
    }
   ],
   "source": [
    "a = np.array([[-8, 2, -3], [2, 10, 4], [4, -1, -6]]) \n",
    "check_diagonally(a)"
   ]
  },
  {
   "cell_type": "code",
   "execution_count": 18,
   "metadata": {},
   "outputs": [
    {
     "name": "stdout",
     "output_type": "stream",
     "text": [
      "Iteration results\n",
      " k,   x1,      x2,      x3,      \n",
      "1  -0.2500, 0.7500, 0.5417, \n",
      "2  -0.2656, 0.5365, 0.5668, \n",
      "3  -0.3285, 0.5390, 0.5245, \n",
      "4  -0.3120, 0.5526, 0.5333, \n",
      "5  -0.3118, 0.5491, 0.5339, \n",
      "6  -0.3130, 0.5490, 0.5332, \n",
      "7  -0.3127, 0.5493, 0.5333, \n",
      "Converged !\n",
      "\n",
      "Check\n",
      "my solve: [-0.31268252  0.54920515  0.53334413]\n",
      "np solve: [-0.31269841  0.54920635  0.53333333]\n"
     ]
    }
   ],
   "source": [
    "a = np.array([[-8, 2, -3], [2, 10, 4], [4, -1, -6]]) \n",
    "x = np.zeros(a.shape[0]) \n",
    "y = np.array([2, 7, -5]) \n",
    "x = Gauss_Seidel(a, x, y, it=100, epsilon=0.0001) \n",
    "print('')\n",
    "print('Check')\n",
    "print('my solve:',x)\n",
    "x = np.linalg.solve(a, y)\n",
    "print('np solve:',x)"
   ]
  }
 ],
 "metadata": {
  "kernelspec": {
   "display_name": "Python 3 (ipykernel)",
   "language": "python",
   "name": "python3"
  },
  "language_info": {
   "codemirror_mode": {
    "name": "ipython",
    "version": 3
   },
   "file_extension": ".py",
   "mimetype": "text/x-python",
   "name": "python",
   "nbconvert_exporter": "python",
   "pygments_lexer": "ipython3",
   "version": "3.10.11"
  }
 },
 "nbformat": 4,
 "nbformat_minor": 4
}
