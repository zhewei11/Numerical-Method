{
 "cells": [
  {
   "cell_type": "code",
   "execution_count": 3,
   "id": "initial_id",
   "metadata": {
    "ExecuteTime": {
     "end_time": "2024-02-28T13:04:35.494272Z",
     "start_time": "2024-02-28T13:04:32.061934Z"
    },
    "collapsed": true
   },
   "outputs": [
    {
     "name": "stdout",
     "output_type": "stream",
     "text": [
      "cos(2.3) approximation is -0.6662760212798241\n"
     ]
    }
   ],
   "source": [
    "\n",
    "import math\n",
    "\n",
    "# Calculate factorial of a number\n",
    "def factorial(n):\n",
    "    if n == 0:\n",
    "        return 1\n",
    "    else:\n",
    "        return n * factorial(n-1)\n",
    "\n",
    "# Approximate cosine using Taylor series\n",
    "#sum of -1^n*x^2n/2n! ,where n is 0 to 24.\n",
    "def cos_approx(x, terms=50):\n",
    "    result = 0\n",
    "    for n in range(terms):\n",
    "        coef = (-1)**n                   #-1^n\n",
    "        num = x**(2*n)                   #x^2n\n",
    "        denom = factorial(2*n)           #2n!\n",
    "        result += coef * (num / denom)   #substitute variables to Taylor series\n",
    "    return result\n",
    "\n",
    "num = float(input(\"Enter a number: \"))\n",
    "\n",
    "approx = cos_approx(num)\n",
    "\n",
    "print(f\"cos({num}) approximation is {approx}\")\n"
   ]
  }
 ],
 "metadata": {
  "kernelspec": {
   "display_name": "Python 3",
   "language": "python",
   "name": "python3"
  },
  "language_info": {
   "codemirror_mode": {
    "name": "ipython",
    "version": 3
   },
   "file_extension": ".py",
   "mimetype": "text/x-python",
   "name": "python",
   "nbconvert_exporter": "python",
   "pygments_lexer": "ipython3",
   "version": "3.10.11"
  }
 },
 "nbformat": 4,
 "nbformat_minor": 5
}
