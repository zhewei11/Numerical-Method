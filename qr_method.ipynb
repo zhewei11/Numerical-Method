{
 "cells": [
  {
   "cell_type": "code",
   "execution_count": 7,
   "metadata": {},
   "outputs": [
    {
     "name": "stdout",
     "output_type": "stream",
     "text": [
      "Q: [[-0.66666667  0.49518757 -0.55708601]\n",
      " [-0.33333333 -0.86657824 -0.37139068]\n",
      " [-0.66666667 -0.06189845  0.74278135]]\n",
      "R: [[-3.         -4.33333333 -7.        ]\n",
      " [ 0.         -1.79505494 -2.59973473]\n",
      " [ 0.          0.         -1.11417203]]\n",
      "QR: [[2. 2. 4.]\n",
      " [1. 3. 5.]\n",
      " [2. 3. 4.]]\n",
      "[2. 3. 4.]\n"
     ]
    }
   ],
   "source": [
    "import numpy as np\n",
    "from numpy.linalg import qr\n",
    "\n",
    "# Example matrix A\n",
    "a = np.array([[2, 2, 4],\n",
    "              [1, 3, 5],\n",
    "              [2, 3, 4]])\n",
    "\n",
    "# Perform QR decomposition\n",
    "q, r = qr(a)\n",
    "print('Q:', q)\n",
    "print('R:', r)\n",
    "\n",
    "# Verify that A = QR\n",
    "b = np.dot(q, r)\n",
    "eigenvalues_iter1 = np.diag(b)\n",
    "print('QR:', b)\n",
    "\n",
    "print(eigenvalues_iter1)"
   ]
  },
  {
   "cell_type": "code",
   "execution_count": 8,
   "metadata": {},
   "outputs": [
    {
     "name": "stdout",
     "output_type": "stream",
     "text": [
      "Eigenvalues after 1 iteration: [2. 3. 4.]\n",
      "Eigenvalues after 10 iterations: [ 8.80916361  0.91668029 -0.72584391]\n",
      "Eigenvalues after 20 iterations: [ 8.80916362  0.92531542 -0.73447904]\n"
     ]
    }
   ],
   "source": [
    "import numpy as np\n",
    "\n",
    "# Define the matrix\n",
    "A = np.array([[2, 2, 4],\n",
    "              [1, 3, 5],\n",
    "              [2, 3, 4]])\n",
    "\n",
    "# Perform 1 iteration of the QR method\n",
    "Q, R = np.linalg.qr(A)\n",
    "A = np.dot(Q, R)\n",
    "eigenvalues_iter1 = np.diag(A)\n",
    "print(\"Eigenvalues after 1 iteration:\", eigenvalues_iter1)\n",
    "\n",
    "# Perform 10 iterations of the QR method\n",
    "for i in range(9):  # Iterate 9 more times (total 10 iterations)\n",
    "    Q, R = np.linalg.qr(A)\n",
    "    A = np.dot(R, Q)\n",
    "eigenvalues_iter10 = np.diag(A)\n",
    "print(\"Eigenvalues after 10 iterations:\", eigenvalues_iter10)\n",
    "\n",
    "# Perform 10 more iterations of the QR method\n",
    "for i in range(10):  # Iterate 10 times more (total 20 iterations)\n",
    "    Q, R = np.linalg.qr(A)\n",
    "    A = np.dot(R, Q)\n",
    "eigenvalues_iter20 = np.diag(A)\n",
    "print(\"Eigenvalues after 20 iterations:\", eigenvalues_iter20)\n"
   ]
  }
 ],
 "metadata": {
  "kernelspec": {
   "display_name": "Python 3",
   "language": "python",
   "name": "python3"
  },
  "language_info": {
   "codemirror_mode": {
    "name": "ipython",
    "version": 3
   },
   "file_extension": ".py",
   "mimetype": "text/x-python",
   "name": "python",
   "nbconvert_exporter": "python",
   "pygments_lexer": "ipython3",
   "version": "3.10.11"
  }
 },
 "nbformat": 4,
 "nbformat_minor": 2
}
