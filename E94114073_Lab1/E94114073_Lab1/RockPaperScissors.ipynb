{
 "cells": [
  {
   "cell_type": "code",
   "execution_count": 1,
   "id": "initial_id",
   "metadata": {
    "collapsed": true,
    "ExecuteTime": {
     "end_time": "2024-02-28T13:05:47.088849Z",
     "start_time": "2024-02-28T13:05:35.749903Z"
    }
   },
   "outputs": [
    {
     "name": "stdout",
     "output_type": "stream",
     "text": [
      "Welcome to ROCK, PAPER, SCISSORS game!\n",
      "ROCK versus...\n",
      "PAPER\n",
      "You lose!\n",
      "PAPER versus...\n",
      "PAPER\n",
      "It is a tie!\n",
      "SCISSORS versus...\n",
      "PAPER\n",
      "You win!\n",
      "You have 1 ties and 1 losses before your first win\n"
     ]
    }
   ],
   "source": [
    "import random \n",
    "\n",
    "# Initialize counters for ties, wins, and losses\n",
    "tie = 0\n",
    "win = 0\n",
    "lose = 0\n",
    "\n",
    "print(\"Welcome to ROCK, PAPER, SCISSORS game!\")\n",
    "\n",
    "# Game loop continues until the player first win\n",
    "while win == 0:\n",
    "\n",
    "    custom = input(\"Enter your move: (r)ock (p)aper (s)cissors \")\n",
    "    \n",
    "    # Generate a random move for the computer\n",
    "    rand = random.choice(['r', 'p', 's'])\n",
    "\n",
    "    # Compare the user's move with the computer's move and determine the result\n",
    "    if custom == \"r\":\n",
    "        print(\"ROCK versus...\")\n",
    "        if rand == 'r':\n",
    "            print(\"ROCK\")\n",
    "            print(\"It is a tie!\")\n",
    "            tie += 1\n",
    "        elif rand == 'p':\n",
    "            print(\"PAPER\")\n",
    "            print(\"You lose!\")\n",
    "            lose += 1\n",
    "        elif rand == 's':\n",
    "            print(\"SCISSORS\")\n",
    "            print(\"You win!\")\n",
    "            win += 1\n",
    "    elif custom == \"p\":\n",
    "        print(\"PAPER versus...\")\n",
    "        if rand == 'r':\n",
    "            print(\"ROCK\")\n",
    "            print(\"You win!\")\n",
    "            win += 1\n",
    "        elif rand == 'p':\n",
    "            print(\"PAPER\")\n",
    "            print(\"It is a tie!\")\n",
    "            tie += 1\n",
    "        elif rand == 's':\n",
    "            print(\"SCISSORS\")\n",
    "            print(\"You lose!\")\n",
    "            lose += 1\n",
    "    elif custom == \"s\":\n",
    "        print(\"SCISSORS versus...\")\n",
    "        if rand == 'r':\n",
    "            print(\"ROCK\")\n",
    "            print(\"You lose!\")\n",
    "            lose += 1\n",
    "        elif rand == 'p':\n",
    "            print(\"PAPER\")\n",
    "            print(\"You win!\")\n",
    "            win += 1\n",
    "        elif rand == 's':\n",
    "            print(\"SCISSORS\")\n",
    "            print(\"It is a tie!\")\n",
    "            tie += 1\n",
    "\n",
    "# Print the number of ties and losses before the player's first win\n",
    "print(\"You have \" + str(tie) + \" ties and \" + str(lose) + \" losses before your first win\")\n"
   ]
  }
 ],
 "metadata": {
  "kernelspec": {
   "display_name": "Python 3",
   "language": "python",
   "name": "python3"
  },
  "language_info": {
   "codemirror_mode": {
    "name": "ipython",
    "version": 2
   },
   "file_extension": ".py",
   "mimetype": "text/x-python",
   "name": "python",
   "nbconvert_exporter": "python",
   "pygments_lexer": "ipython2",
   "version": "2.7.6"
  }
 },
 "nbformat": 4,
 "nbformat_minor": 5
}
