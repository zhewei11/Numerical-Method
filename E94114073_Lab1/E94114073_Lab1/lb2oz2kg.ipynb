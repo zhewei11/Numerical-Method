{
 "cells": [
  {
   "cell_type": "code",
   "execution_count": 1,
   "id": "initial_id",
   "metadata": {
    "collapsed": true,
    "ExecuteTime": {
     "end_time": "2024-02-28T13:05:13.751688Z",
     "start_time": "2024-02-28T13:05:09.112114Z"
    }
   },
   "outputs": [
    {
     "name": "stdout",
     "output_type": "stream",
     "text": [
      "lb , oz , kg\n",
      "1.5 24.0 0.68039\n"
     ]
    }
   ],
   "source": [
    "# Initialize variables\n",
    "lb = float(input(\"Enter weight(lb): \")) \n",
    "oz = 16 * lb # 1 lb= 16 oz\n",
    "kg =round( 0.45359237 * lb ,5) #1 lb = 0.45359237 kg \n",
    "#round the result to fifth decimal place\n",
    "\n",
    "# print results\n",
    "print(\"lb , oz , kg\")\n",
    "print(lb, oz, kg)\n"
   ]
  }
 ],
 "metadata": {
  "kernelspec": {
   "display_name": "Python 3",
   "language": "python",
   "name": "python3"
  },
  "language_info": {
   "codemirror_mode": {
    "name": "ipython",
    "version": 2
   },
   "file_extension": ".py",
   "mimetype": "text/x-python",
   "name": "python",
   "nbconvert_exporter": "python",
   "pygments_lexer": "ipython2",
   "version": "2.7.6"
  }
 },
 "nbformat": 4,
 "nbformat_minor": 5
}
