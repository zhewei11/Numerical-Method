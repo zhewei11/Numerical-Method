{
 "cells": [
  {
   "cell_type": "code",
   "execution_count": 1,
   "id": "initial_id",
   "metadata": {
    "collapsed": true,
    "ExecuteTime": {
     "end_time": "2024-03-07T09:53:16.710330Z",
     "start_time": "2024-03-07T09:53:16.667484Z"
    }
   },
   "outputs": [
    {
     "name": "stdout",
     "output_type": "stream",
     "text": [
      "Sample1:\n",
      "|Seq50 = 'GGAACCTT'\n",
      "|gc_content(Seq50)\n",
      "|\n",
      "|0.5\n",
      "\n",
      "Sample2:\n",
      "|Seq60 = 'GCGCGCATTA'\n",
      "|gc_content(Seq60)\n",
      "|\n",
      "|0.6\n",
      "\n",
      "Sample3:\n",
      "|Seq70 = 'AGCAGCCGCT'\n",
      "|gc_content(Seq70)\n",
      "|\n",
      "|0.7\n"
     ]
    }
   ],
   "source": [
    "def gc_content(dna_sequence):\n",
    "    # Check if DNA sequence is empty\n",
    "    if not dna_sequence:\n",
    "        return 0\n",
    "    \n",
    "    # Count the occurrences of 'G' and 'C' in the DNA sequence\n",
    "    gc_count = dna_sequence.count('G') + dna_sequence.count('C')\n",
    "    # Calculate the total number of bases in the DNA sequence\n",
    "    total = len(dna_sequence)\n",
    "    # Calculate the GC content percentage\n",
    "    gc_content_percent = (gc_count / total)\n",
    "    \n",
    "    return gc_content_percent\n",
    "\n",
    "# The class of test function\n",
    "class Sample:\n",
    "    def __init__(self):\n",
    "        #attribute\n",
    "        self.name = ''\n",
    "        self.dna_sequence = ''\n",
    "        self.sequence = ''\n",
    "        \n",
    "    def print_attribute(self):\n",
    "\n",
    "        print(self.name + \":\")\n",
    "        print(\"|\" + self.dna_sequence + \" = '\" + self.sequence + \"'\")\n",
    "        print(\"|gc_content(\" + self.dna_sequence + \")\")\n",
    "        print(\"|\")\n",
    "        print(\"|\" + str(gc_content(self.sequence)) + \"\\n\")\n",
    "        \n",
    "sample1 = Sample()\n",
    "sample1.name = 'Sample1'\n",
    "sample1.dna_sequence = 'Seq50'\n",
    "sample1.sequence = 'GGAACCTT'\n",
    "\n",
    "sample2 = Sample()\n",
    "sample2.name = 'Sample2'\n",
    "sample2.dna_sequence = 'Seq60'\n",
    "sample2.sequence = 'GCGCGCATTA'\n",
    "\n",
    "sample3 = Sample()\n",
    "sample3.name = 'Sample3'\n",
    "sample3.dna_sequence = 'Seq70'\n",
    "sample3.sequence = 'AGCAGCCGCT'\n",
    "\n",
    "samples = [sample1, sample2, sample3]\n",
    "\n",
    "for sample in samples:\n",
    "    sample.print_attribute()\n"
   ]
  },
  {
   "cell_type": "code",
   "outputs": [],
   "source": [],
   "metadata": {
    "collapsed": false,
    "ExecuteTime": {
     "end_time": "2024-03-05T13:55:11.734017Z",
     "start_time": "2024-03-05T13:55:11.719054Z"
    }
   },
   "id": "269689ee4ecaa659",
   "execution_count": 38
  }
 ],
 "metadata": {
  "kernelspec": {
   "display_name": "Python 3",
   "language": "python",
   "name": "python3"
  },
  "language_info": {
   "codemirror_mode": {
    "name": "ipython",
    "version": 2
   },
   "file_extension": ".py",
   "mimetype": "text/x-python",
   "name": "python",
   "nbconvert_exporter": "python",
   "pygments_lexer": "ipython2",
   "version": "2.7.6"
  }
 },
 "nbformat": 4,
 "nbformat_minor": 5
}
