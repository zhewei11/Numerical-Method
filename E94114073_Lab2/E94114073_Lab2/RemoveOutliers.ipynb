{
 "cells": [
  {
   "cell_type": "code",
   "execution_count": 2,
   "id": "initial_id",
   "metadata": {
    "collapsed": true,
    "ExecuteTime": {
     "end_time": "2024-03-07T09:51:28.644865Z",
     "start_time": "2024-03-07T09:51:13.640522Z"
    }
   },
   "outputs": [
    {
     "name": "stdout",
     "output_type": "stream",
     "text": [
      "\n",
      "The original data: [1000, -11, 54, 24, 89, 63, -22]\n",
      "The data with the outliers removed:  [24, 54, 63]\n",
      "The outliers:  [-22, -11, 89, 1000]\n"
     ]
    }
   ],
   "source": [
    "def remove_outliers(data, n):\n",
    "    #arrange the data from large to small\n",
    "    sorted_data = sorted(data)\n",
    "    # Extract the outliers (n largest and n smallest elements)\n",
    "    outliers = sorted_data[:n] + sorted_data[-n:]\n",
    "    # Extract the removed data (data without outliers)\n",
    "    removed = sorted_data[n:-n]\n",
    "    return removed, outliers\n",
    "\n",
    "data = []\n",
    "n = int(input(\"Enter the number of smallest and largest values to remove: \"))\n",
    "while True:\n",
    "    user_input = input(\"Enter a value (enter 'q' or 'Q' to quit): \")\n",
    "    # Check if the user wants to quit\n",
    "    if user_input.lower() == 'q':\n",
    "        break\n",
    "    else:\n",
    "        data.append(int(user_input))\n",
    "        continue\n",
    "            \n",
    "    # Call the remove_outliers function to remove outliers from the data\n",
    "removed, outliers = remove_outliers(data, n)\n",
    "    \n",
    "# Print the original data, cleaned data, and outliers\n",
    "print(\"\\nThe original data:\", data)\n",
    "print(\"The data with the outliers removed: \", removed)\n",
    "print(\"The outliers: \", outliers)\n",
    "\n",
    "\n"
   ]
  },
  {
   "cell_type": "code",
   "outputs": [],
   "source": [],
   "metadata": {
    "collapsed": false,
    "ExecuteTime": {
     "end_time": "2024-03-07T09:51:04.692934Z",
     "start_time": "2024-03-07T09:51:04.675012Z"
    }
   },
   "id": "3daec9900dcee3fd",
   "execution_count": 1
  }
 ],
 "metadata": {
  "kernelspec": {
   "display_name": "Python 3",
   "language": "python",
   "name": "python3"
  },
  "language_info": {
   "codemirror_mode": {
    "name": "ipython",
    "version": 2
   },
   "file_extension": ".py",
   "mimetype": "text/x-python",
   "name": "python",
   "nbconvert_exporter": "python",
   "pygments_lexer": "ipython2",
   "version": "2.7.6"
  }
 },
 "nbformat": 4,
 "nbformat_minor": 5
}
