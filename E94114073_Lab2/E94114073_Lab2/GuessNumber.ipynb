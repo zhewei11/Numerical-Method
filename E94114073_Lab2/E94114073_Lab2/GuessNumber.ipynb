{
 "cells": [
  {
   "cell_type": "code",
   "execution_count": 1,
   "id": "initial_id",
   "metadata": {
    "collapsed": true,
    "ExecuteTime": {
     "end_time": "2024-03-07T09:53:01.797388Z",
     "start_time": "2024-03-07T09:51:55.952236Z"
    }
   },
   "outputs": [
    {
     "name": "stdout",
     "output_type": "stream",
     "text": [
      "Welcome to the number guessing game with a range of 1 to 100\n",
      "Range from 50 to 100\n",
      "Range from 50 to 75\n",
      "Range from 59 to 75\n",
      "Range from 59 to 68\n",
      "Range from 62 to 68\n",
      "Range from 63 to 68\n",
      "Range from 65 to 68\n",
      "Range from 65 to 67\n",
      "You guessed the correct number!\n"
     ]
    }
   ],
   "source": [
    "import random\n",
    "\n",
    "# Generate a random number between 1 and 100\n",
    "number = random.randint(1, 100)\n",
    "\n",
    "# Initialize the lower and upper bounds of the range\n",
    "low = 1\n",
    "high = 100\n",
    "\n",
    "print(\"Welcome to the number guessing game with a range of 1 to 100\")\n",
    "\n",
    "while True:\n",
    "    try:\n",
    "        \n",
    "        guess = int(input(\"Enter your guess: \"))\n",
    "        \n",
    "        # Check if the guess is out of range\n",
    "        if guess < low or guess > high:\n",
    "            print(\"Out of range!\")\n",
    "            continue\n",
    "        \n",
    "        # Check if the guess is correct\n",
    "        if guess == number:\n",
    "            print(\"You guessed the correct number!\")\n",
    "            break\n",
    "        # If the guess is lower than the number, adjust the lower bound\n",
    "        elif guess < number:\n",
    "            low = guess #renew the lower\n",
    "            print(\"Range from \" + str(low) + \" to \" + str(high))\n",
    "        # If the guess is higher than the number, adjust the upper bound\n",
    "        elif guess > number:\n",
    "            high = guess #renew the upper\n",
    "            print(\"Range from \" + str(low) + \" to \" + str(high))\n",
    "    except ValueError:\n",
    "        print(\"Please enter a valid number.\")\n"
   ]
  },
  {
   "cell_type": "code",
   "outputs": [],
   "source": [],
   "metadata": {
    "collapsed": false
   },
   "id": "38e91deec7c7f594"
  }
 ],
 "metadata": {
  "kernelspec": {
   "display_name": "Python 3",
   "language": "python",
   "name": "python3"
  },
  "language_info": {
   "codemirror_mode": {
    "name": "ipython",
    "version": 2
   },
   "file_extension": ".py",
   "mimetype": "text/x-python",
   "name": "python",
   "nbconvert_exporter": "python",
   "pygments_lexer": "ipython2",
   "version": "2.7.6"
  }
 },
 "nbformat": 4,
 "nbformat_minor": 5
}
