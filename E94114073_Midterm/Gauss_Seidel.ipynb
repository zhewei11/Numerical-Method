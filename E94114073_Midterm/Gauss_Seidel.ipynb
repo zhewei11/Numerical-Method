{
 "cells": [
  {
   "cell_type": "code",
   "execution_count": 1,
   "metadata": {},
   "outputs": [],
   "source": [
    "import numpy as np\n",
    "from copy import deepcopy"
   ]
  },
  {
   "cell_type": "code",
   "execution_count": 2,
   "metadata": {},
   "outputs": [],
   "source": [
    "def Gauss_Seidel(a, x, y, it, epsilon):\n",
    "    con = False\n",
    "    x_b = np.zeros(a.shape[0]) #存放上一個用\n",
    "\n",
    "    for k in range(it):\n",
    "        x_b = deepcopy(x)\n",
    "\n",
    "        for i in range(a.shape[0]):\n",
    "            x[i] = (y[i] - np.dot(a[i, :i], x[:i]) - np.dot(a[i, i+1:], x_b[i+1:])) / a[i, i] #renew iteration\n",
    "\n",
    "        if np.linalg.norm(x - x_b, ord=np.inf) < epsilon: #pridefined\n",
    "            con = True\n",
    "            break\n",
    "\n",
    "    return x"
   ]
  },
  {
   "cell_type": "code",
   "execution_count": 3,
   "metadata": {},
   "outputs": [
    {
     "name": "stdout",
     "output_type": "stream",
     "text": [
      "The Solve: [ 0.10662537 -0.81122684 -0.26963683  0.17667935]\n"
     ]
    }
   ],
   "source": [
    "a = np.array([[12, -2, 4, 1], [4, -8, 1, 2], [3, -2, 12, -4], [0, 6, -8, 21]]) \n",
    "x = np.zeros(a.shape[0]) \n",
    "y = np.array([2, 7, -2, 1]) \n",
    "answer = Gauss_Seidel(a, x, y, it=100, epsilon=0.0001) \n",
    "print(\"The Solve:\", answer)"
   ]
  }
 ],
 "metadata": {
  "kernelspec": {
   "display_name": "Python 3",
   "language": "python",
   "name": "python3"
  },
  "language_info": {
   "codemirror_mode": {
    "name": "ipython",
    "version": 3
   },
   "file_extension": ".py",
   "mimetype": "text/x-python",
   "name": "python",
   "nbconvert_exporter": "python",
   "pygments_lexer": "ipython3",
   "version": "3.10.11"
  }
 },
 "nbformat": 4,
 "nbformat_minor": 2
}
