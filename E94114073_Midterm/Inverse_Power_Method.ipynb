{
 "cells": [
  {
   "cell_type": "code",
   "execution_count": 34,
   "metadata": {},
   "outputs": [],
   "source": [
    "import numpy as np\n",
    "from numpy.linalg import inv"
   ]
  },
  {
   "cell_type": "code",
   "execution_count": 35,
   "metadata": {},
   "outputs": [],
   "source": [
    "import numpy as np\n",
    "\n",
    "def Inverse_Power_Method(m, x_i, sigma=0, tol=1e-6, max_iter=100):\n",
    "\n",
    "\n",
    "    # Initialize variables\n",
    "    n = m.shape[0]\n",
    "    eigenvalue = sigma\n",
    "    eigenvector = x_i\n",
    "\n",
    "    # Perform iterations\n",
    "    for _ in range(max_iter):\n",
    "        # Solve linear system (m - sigma*I) * x = y for x\n",
    "        y = np.linalg.solve(m - eigenvalue * np.eye(n), eigenvector)\n",
    "\n",
    "        # Normalize x\n",
    "        eigenvector = y / np.linalg.norm(y, np.inf)\n",
    "        \n",
    "        eigenvalue_new = np.dot(eigenvector, np.dot(m, eigenvector))\n",
    "\n",
    "        # Check convergence\n",
    "        if np.abs(eigenvalue_new - eigenvalue) < tol:\n",
    "            break\n",
    "\n",
    "        eigenvalue = eigenvalue_new\n",
    "\n",
    "    return eigenvalue, eigenvector\n"
   ]
  },
  {
   "cell_type": "code",
   "execution_count": 36,
   "metadata": {},
   "outputs": [
    {
     "name": "stdout",
     "output_type": "stream",
     "text": [
      "The Minimum Eigenvalue: 65.48312999096555\n",
      "Eigenvector: [-0.83715662 -0.84959969 -0.91505729 -1.        ]\n"
     ]
    }
   ],
   "source": [
    "a = np.array([[10, 2, 3, 4],[2, 9, 3, 5],[3, 3, 8, 6],[4, 5, 6, 7]]) \n",
    "\n",
    "x = np.array([1, 1, 1, 1]) \n",
    " \n",
    "Eigenvalue, Eigenvector = Inverse_Power_Method(a, x) \n",
    "print(\"The Minimum Eigenvalue:\", Eigenvalue) \n",
    "print(\"Eigenvector:\", Eigenvector) "
   ]
  }
 ],
 "metadata": {
  "kernelspec": {
   "display_name": "Python 3",
   "language": "python",
   "name": "python3"
  },
  "language_info": {
   "codemirror_mode": {
    "name": "ipython",
    "version": 3
   },
   "file_extension": ".py",
   "mimetype": "text/x-python",
   "name": "python",
   "nbconvert_exporter": "python",
   "pygments_lexer": "ipython3",
   "version": "3.10.11"
  }
 },
 "nbformat": 4,
 "nbformat_minor": 2
}
