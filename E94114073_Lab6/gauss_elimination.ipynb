{
 "cells": [
  {
   "cell_type": "code",
   "execution_count": 1,
   "metadata": {},
   "outputs": [],
   "source": [
    "import numpy as np"
   ]
  },
  {
   "cell_type": "code",
   "execution_count": 2,
   "metadata": {},
   "outputs": [],
   "source": [
    "def gaussian_elimination(matrix, vector):\n",
    "    # Reshape the vector into a column vector\n",
    "    vector = np.reshape(vector, (-1, 1))\n",
    "    \n",
    "    # Convert the matrix data type to float\n",
    "    matrix = matrix.astype(float)\n",
    "    vector = vector.astype(float)\n",
    "\n",
    "    # Construct the augmented matrix\n",
    "    augmented_matrix = np.hstack((matrix, vector))\n",
    "\n",
    "    # Get the number of rows and columns of the matrix\n",
    "    rows, cols = augmented_matrix.shape\n",
    "        # Main loop of Gaussian elimination\n",
    "    for i in range(rows):\n",
    "        # If the diagonal element is zero, perform row swaps\n",
    "        if augmented_matrix[i, i] == 0:\n",
    "            for k in range(i + 1, rows):\n",
    "                if augmented_matrix[k, i] != 0:\n",
    "                    augmented_matrix[[i, k]] = augmented_matrix[[k, i]]\n",
    "                    break\n",
    "  \n",
    "        # Set other elements in the column to zero\n",
    "        for k in range(i + 1, rows):\n",
    "            factor = augmented_matrix[k, i] / augmented_matrix[i, i]\n",
    "            augmented_matrix[k] -= factor * augmented_matrix[i]\n",
    "\n",
    "    # Output the upper triangular matrix\n",
    "    print(\"Upper Triangular Matrix:\")\n",
    "    for i in range(rows):\n",
    "        print(augmented_matrix[i][:cols])\n",
    "\n",
    "    # Back substitution process to solve the system of equations\n",
    "    solution = np.zeros(rows)\n",
    "    for i in range(rows - 1, -1, -1):\n",
    "        solution[i] = (augmented_matrix[i, -1] - np.dot(augmented_matrix[i, i + 1:rows], solution[i + 1:])) / augmented_matrix[i, i]\n",
    "\n",
    "    print(solution)"
   ]
  },
  {
   "cell_type": "code",
   "execution_count": 3,
   "metadata": {},
   "outputs": [
    {
     "name": "stdout",
     "output_type": "stream",
     "text": [
      "Upper Triangular Matrix:\n",
      "[1. 2. 3. 2.]\n",
      "[ 0. -2. -4. -4.]\n",
      "[ 0.  0. -2.  1.]\n",
      "[-2.5  3.  -0.5]\n",
      "Upper Triangular Matrix:\n",
      "[1. 2. 3. 4. 4.]\n",
      "[  0.  -6. -12. -18. -12.]\n",
      "[0. 0. 2. 5. 3.]\n",
      "[ 0.   0.   0.  -2.5 -0.5]\n",
      "[ 1.4 -0.6  1.   0.2]\n"
     ]
    }
   ],
   "source": [
    "# Test Gaussian elimination\n",
    "\n",
    "#Sample1\n",
    "a = np.array([[1, 2, 3], [3, 4, 5], [3, 5, 5]])\n",
    "y = np.array([2, 2, 5])\n",
    "\n",
    "solution = gaussian_elimination(a, y)\n",
    "\n",
    " \n",
    "#Sample 2 \n",
    "a = np.array([[1, 2, 3, 4],[5, 4, 3, 2],[2, 1, 2, 4],[2, 1, 3, 4]]) \n",
    "y = np.array([4, 8, 5, 6]) \n",
    "\n",
    "solution = gaussian_elimination(a, y)"
   ]
  }
 ],
 "metadata": {
  "kernelspec": {
   "display_name": "py37",
   "language": "python",
   "name": "python3"
  },
  "language_info": {
   "codemirror_mode": {
    "name": "ipython",
    "version": 3
   },
   "file_extension": ".py",
   "mimetype": "text/x-python",
   "name": "python",
   "nbconvert_exporter": "python",
   "pygments_lexer": "ipython3",
   "version": "3.10.11"
  }
 },
 "nbformat": 4,
 "nbformat_minor": 2
}
